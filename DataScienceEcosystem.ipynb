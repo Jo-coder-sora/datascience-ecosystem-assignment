{
 "cells": [
  {
   "cell_type": "markdown",
   "id": "c575bbf9-85ca-4c90-a9f6-f5dc5c8e2ba6",
   "metadata": {},
   "source": [
    "# Data Science Tools and Ecosystem"
   ]
  },
  {
   "cell_type": "markdown",
   "id": "b37fd47a-d1ee-4014-a6c1-475069b1ddc3",
   "metadata": {},
   "source": [
    "In this notebook, Data Science Tools and Ecosystem are summarized."
   ]
  },
  {
   "cell_type": "markdown",
   "id": "c6485a45-ee4a-4668-ab2a-07d44a4c375b",
   "metadata": {},
   "source": [
    "Some of the popular languages that Data Scientists use are:\n",
    "1. Python\n",
    "2. R\n",
    "3. SQL\n",
    "4. Julia"
   ]
  },
  {
   "cell_type": "markdown",
   "id": "d8b36f9c-698c-4dc2-9a59-9507f8daabe6",
   "metadata": {},
   "source": [
    "Some of the commonly used libraries used by Data Scientists include:\n",
    "1. Pandas\n",
    "2. NumPy\n",
    "3. Matplotlib\n",
    "4. Scikit-learn\n",
    "5. TensorFlow"
   ]
  },
  {
   "cell_type": "markdown",
   "id": "7d49652f-b202-4a46-8e87-c1eefa09caad",
   "metadata": {},
   "source": [
    "| Data Science Tools | \n",
    "| -------------| \n",
    "| Jupyter Notebook| \n",
    "| RStudio|\n",
    "| Apache Zeppelin|\n",
    " "
   ]
  },
  {
   "cell_type": "markdown",
   "id": "0a764e8d-5de0-407c-b145-b81be4596aaa",
   "metadata": {},
   "source": [
    "### Below are a few examples of evaluating arithmetic expressions in Python."
   ]
  },
  {
   "cell_type": "code",
   "execution_count": 12,
   "id": "0c4c71e5-51c6-43b2-8830-63036a01fbdd",
   "metadata": {},
   "outputs": [
    {
     "data": {
      "text/plain": [
       "17"
      ]
     },
     "execution_count": 12,
     "metadata": {},
     "output_type": "execute_result"
    }
   ],
   "source": [
    "# This a simple arithmetic expression to multiply then add integer\n",
    "(3*4)+5"
   ]
  },
  {
   "cell_type": "code",
   "execution_count": 6,
   "id": "8891ec14-c8b8-495b-9de9-25048a8f5a25",
   "metadata": {},
   "outputs": [
    {
     "data": {
      "text/plain": [
       "3.3333333333333335"
      ]
     },
     "execution_count": 6,
     "metadata": {},
     "output_type": "execute_result"
    }
   ],
   "source": [
    "# This will convert 200 minutes to hours by dividing by 60\n",
    "200 / 60"
   ]
  },
  {
   "cell_type": "markdown",
   "id": "5c92c716-4187-49fa-b0a3-0095ca4905fd",
   "metadata": {},
   "source": [
    "**Objectives:**\n",
    "- List popular languages for Data Science  \n",
    "- Commonly used libraries in Data Science  \n",
    "- Learn basic arithmetic operations in Python\n",
    "- Create Jupyter Notebook\n",
    "- Create and format markdown cells in Jupyter Notebook\n"
   ]
  },
  {
   "cell_type": "markdown",
   "id": "4abb8af9-38e4-447e-a60a-c3f03ecb99fc",
   "metadata": {},
   "source": [
    "## Author\n",
    "Josephine"
   ]
  }
 ],
 "metadata": {
  "kernelspec": {
   "display_name": "Python 3 (ipykernel)",
   "language": "python",
   "name": "python3"
  },
  "language_info": {
   "codemirror_mode": {
    "name": "ipython",
    "version": 3
   },
   "file_extension": ".py",
   "mimetype": "text/x-python",
   "name": "python",
   "nbconvert_exporter": "python",
   "pygments_lexer": "ipython3",
   "version": "3.12.8"
  }
 },
 "nbformat": 4,
 "nbformat_minor": 5
}
